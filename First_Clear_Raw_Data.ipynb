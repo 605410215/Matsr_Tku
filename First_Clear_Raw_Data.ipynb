{
 "cells": [
  {
   "cell_type": "markdown",
   "metadata": {
    "collapsed": true
   },
   "source": [
    "## Import Library"
   ]
  },
  {
   "cell_type": "code",
   "execution_count": 1,
   "metadata": {},
   "outputs": [],
   "source": [
    "import pandas as pd\n",
    "import numpy as np\n",
    "import time as tm"
   ]
  },
  {
   "cell_type": "code",
   "execution_count": 2,
   "metadata": {},
   "outputs": [
    {
     "data": {
      "text/html": [
       "<div>\n",
       "<style scoped>\n",
       "    .dataframe tbody tr th:only-of-type {\n",
       "        vertical-align: middle;\n",
       "    }\n",
       "\n",
       "    .dataframe tbody tr th {\n",
       "        vertical-align: top;\n",
       "    }\n",
       "\n",
       "    .dataframe thead th {\n",
       "        text-align: right;\n",
       "    }\n",
       "</style>\n",
       "<table border=\"1\" class=\"dataframe\">\n",
       "  <thead>\n",
       "    <tr style=\"text-align: right;\">\n",
       "      <th></th>\n",
       "      <th>artist_name</th>\n",
       "      <th>artist_id</th>\n",
       "    </tr>\n",
       "  </thead>\n",
       "  <tbody>\n",
       "    <tr>\n",
       "      <th>21</th>\n",
       "      <td>Various Artists</td>\n",
       "      <td>297472.0</td>\n",
       "    </tr>\n",
       "    <tr>\n",
       "      <th>30</th>\n",
       "      <td>Various Artists</td>\n",
       "      <td>21023.0</td>\n",
       "    </tr>\n",
       "    <tr>\n",
       "      <th>31</th>\n",
       "      <td>Various Artists</td>\n",
       "      <td>21373.0</td>\n",
       "    </tr>\n",
       "    <tr>\n",
       "      <th>109</th>\n",
       "      <td>Various Artists</td>\n",
       "      <td>930049.0</td>\n",
       "    </tr>\n",
       "    <tr>\n",
       "      <th>270</th>\n",
       "      <td>Various Artists</td>\n",
       "      <td>31104.0</td>\n",
       "    </tr>\n",
       "  </tbody>\n",
       "</table>\n",
       "</div>"
      ],
      "text/plain": [
       "         artist_name  artist_id\n",
       "21   Various Artists   297472.0\n",
       "30   Various Artists    21023.0\n",
       "31   Various Artists    21373.0\n",
       "109  Various Artists   930049.0\n",
       "270  Various Artists    31104.0"
      ]
     },
     "execution_count": 2,
     "metadata": {},
     "output_type": "execute_result"
    }
   ],
   "source": [
    "Various_Artist=pd.read_hdf('Various_Artist.h5','a')\n",
    "Various_Artist=Various_Artist.dropna()\n",
    "Various_Artist.head()"
   ]
  },
  {
   "cell_type": "code",
   "execution_count": 3,
   "metadata": {},
   "outputs": [
    {
     "data": {
      "text/plain": [
       "artist_name     object\n",
       "artist_id      float64\n",
       "dtype: object"
      ]
     },
     "execution_count": 3,
     "metadata": {},
     "output_type": "execute_result"
    }
   ],
   "source": [
    "Various_Artist.to_csv('Various_Artist',sep='\\t',encoding='utf-8',index=False)\n",
    "Various_Artist.dtypes"
   ]
  },
  {
   "cell_type": "markdown",
   "metadata": {},
   "source": [
    "## Clear Data "
   ]
  },
  {
   "cell_type": "code",
   "execution_count": 4,
   "metadata": {
    "scrolled": true
   },
   "outputs": [
    {
     "name": "stdout",
     "output_type": "stream",
     "text": [
      "File_name:aaa Data_size:9579375\n",
      "File_name:aab Data_size:9228441\n",
      "File_name:aac Data_size:9114010\n",
      "File_name:aad Data_size:8909561\n",
      "File_name:aae Data_size:8008231\n",
      "File_name:aaf Data_size:8069656\n",
      "File_name:aag Data_size:8357848\n",
      "File_name:aah Data_size:7699080\n",
      "File_name:aai Data_size:8107530\n",
      "File_name:aaj Data_size:8185173\n",
      "File_name:aak Data_size:8082459\n",
      "File_name:aal Data_size:8113765\n",
      "File_name:aam Data_size:8600608\n",
      "File_name:aan Data_size:8781176\n",
      "File_name:aao Data_size:9378364\n",
      "File_name:aap Data_size:9794509\n",
      "File_name:aaq Data_size:9735526\n",
      "File_name:aar Data_size:9705996\n",
      "File_name:aas Data_size:9679172\n",
      "File_name:aat Data_size:9724251\n",
      "File_name:aau Data_size:9757820\n",
      "File_name:aav Data_size:9709328\n",
      "File_name:aaw Data_size:9668192\n",
      "File_name:aax Data_size:9703546\n",
      "File_name:aay Data_size:9729827\n",
      "File_name:aaz Data_size:9686017\n",
      "File_name:aba Data_size:9716124\n",
      "File_name:abb Data_size:9735321\n",
      "File_name:abc Data_size:9609188\n",
      "File_name:abd Data_size:9694503\n"
     ]
    },
    {
     "name": "stderr",
     "output_type": "stream",
     "text": [
      "C:\\ProgramData\\Anaconda3\\lib\\site-packages\\IPython\\core\\interactiveshell.py:2728: DtypeWarning: Columns (0,2,4,5) have mixed types. Specify dtype option on import or set low_memory=False.\n",
      "  interactivity=interactivity, compiler=compiler, result=result)\n"
     ]
    },
    {
     "name": "stdout",
     "output_type": "stream",
     "text": [
      "File_name:abe Data_size:9684069\n",
      "File_name:abf Data_size:9560548\n",
      "File_name:abg Data_size:9561706\n",
      "File_name:abh Data_size:9640248\n",
      "File_name:abi Data_size:9668524\n",
      "File_name:abj Data_size:9708323\n",
      "File_name:abk Data_size:9634281\n",
      "File_name:abl Data_size:9599928\n",
      "File_name:abm Data_size:9601911\n",
      "File_name:abn Data_size:9703222\n",
      "File_name:abo Data_size:9743640\n",
      "File_name:abp Data_size:9729290\n",
      "File_name:abq Data_size:9753046\n",
      "File_name:abr Data_size:9748575\n",
      "File_name:abs Data_size:9788163\n",
      "File_name:abt Data_size:9781471\n",
      "File_name:abu Data_size:9771973\n",
      "File_name:abv Data_size:9768732\n",
      "File_name:abw Data_size:9557456\n",
      "File_name:abx Data_size:9500402\n",
      "File_name:aby Data_size:9425207\n",
      "File_name:abz Data_size:9557460\n",
      "File_name:aca Data_size:9537821\n",
      "File_name:acb Data_size:9733745\n",
      "File_name:acc Data_size:9763532\n",
      "File_name:acd Data_size:9527609\n",
      "File_name:ace Data_size:9404948\n",
      "File_name:acf Data_size:9461885\n",
      "File_name:acg Data_size:9241136\n",
      "File_name:ach Data_size:9410045\n",
      "File_name:aci Data_size:9318397\n",
      "File_name:acj Data_size:9689667\n",
      "File_name:ack Data_size:9681043\n",
      "File_name:acl Data_size:9559215\n",
      "File_name:acm Data_size:9579593\n",
      "File_name:acn Data_size:9739720\n",
      "File_name:aco Data_size:9255102\n",
      "File_name:acp Data_size:8902232\n",
      "File_name:acq Data_size:8776390\n",
      "File_name:acr Data_size:9303878\n",
      "File_name:acs Data_size:9477324\n",
      "File_name:act Data_size:9415440\n",
      "File_name:acu Data_size:9595910\n",
      "File_name:acv Data_size:9847550\n",
      "File_name:acw Data_size:9751405\n",
      "File_name:acx Data_size:9654588\n",
      "File_name:acy Data_size:9748841\n",
      "File_name:acz Data_size:9690678\n",
      "File_name:ada Data_size:9610595\n",
      "File_name:adb Data_size:9489245\n",
      "File_name:adc Data_size:8679827\n",
      "File_name:add Data_size:9185428\n",
      "File_name:ade Data_size:9821337\n",
      "File_name:adf Data_size:9795959\n",
      "File_name:adg Data_size:9606578\n",
      "File_name:adh Data_size:9637782\n",
      "File_name:adi Data_size:9804036\n",
      "File_name:adj Data_size:9775261\n",
      "File_name:adk Data_size:9762801\n",
      "File_name:adl Data_size:7487137\n",
      "Data_size:846076452\n"
     ]
    }
   ],
   "source": [
    "size=0\n",
    "columns=['msno','x_login_type_desc','song_id','played_at','song_length','played_length']\n",
    "for i in range(97,101,1):\n",
    "    for j in range(97,123,1):\n",
    "        file_name='a'+chr(i)+chr(j)\n",
    "        if(file_name=='aaa'):\n",
    "            df=pd.read_csv(file_name,sep='\\t')\n",
    "        else:\n",
    "            df=pd.read_csv(file_name,sep='\\t',names=columns)\n",
    "        df['played_at']=pd.to_datetime(df['played_at'], errors='coerce')\n",
    "        df=df.dropna()\n",
    "        df['played_at']=pd.to_datetime(df['played_at'])\n",
    "        df['year']=df['played_at'].dt.year\n",
    "        df['month']=df['played_at'].dt.month\n",
    "        df['day']=df['played_at'].dt.day\n",
    "        df=df[df['year']==2016]\n",
    "        df=df[df['month']==12]\n",
    "        df=df[df['day']!=31]\n",
    "        df=df[df['song_length']!=0]\n",
    "        df.drop(['year','month','played_at','x_login_type_desc'], axis=1, inplace=True)\n",
    "        df.to_csv(file_name,sep='\\t',encoding='utf-8',index=False)\n",
    "        print ('File_name:%s Data_size:%d'%(file_name,len(df)))\n",
    "        size=size+len(df)\n",
    "        if(i==100 and j==108):\n",
    "            break\n",
    "print ('Data_size:%d'%(size))"
   ]
  },
  {
   "cell_type": "code",
   "execution_count": 5,
   "metadata": {},
   "outputs": [
    {
     "data": {
      "text/html": [
       "<div>\n",
       "<style scoped>\n",
       "    .dataframe tbody tr th:only-of-type {\n",
       "        vertical-align: middle;\n",
       "    }\n",
       "\n",
       "    .dataframe tbody tr th {\n",
       "        vertical-align: top;\n",
       "    }\n",
       "\n",
       "    .dataframe thead th {\n",
       "        text-align: right;\n",
       "    }\n",
       "</style>\n",
       "<table border=\"1\" class=\"dataframe\">\n",
       "  <thead>\n",
       "    <tr style=\"text-align: right;\">\n",
       "      <th></th>\n",
       "      <th>msno</th>\n",
       "      <th>song_id</th>\n",
       "      <th>song_length</th>\n",
       "      <th>played_length</th>\n",
       "      <th>day</th>\n",
       "    </tr>\n",
       "  </thead>\n",
       "  <tbody>\n",
       "    <tr>\n",
       "      <th>0</th>\n",
       "      <td>5471836</td>\n",
       "      <td>159134550</td>\n",
       "      <td>236121</td>\n",
       "      <td>236121</td>\n",
       "      <td>11</td>\n",
       "    </tr>\n",
       "    <tr>\n",
       "      <th>1</th>\n",
       "      <td>12628193</td>\n",
       "      <td>143715991</td>\n",
       "      <td>298945</td>\n",
       "      <td>4010</td>\n",
       "      <td>12</td>\n",
       "    </tr>\n",
       "    <tr>\n",
       "      <th>2</th>\n",
       "      <td>66768647</td>\n",
       "      <td>171890544</td>\n",
       "      <td>215197</td>\n",
       "      <td>189231</td>\n",
       "      <td>10</td>\n",
       "    </tr>\n",
       "    <tr>\n",
       "      <th>3</th>\n",
       "      <td>338067507366</td>\n",
       "      <td>5975275</td>\n",
       "      <td>178625</td>\n",
       "      <td>178625</td>\n",
       "      <td>12</td>\n",
       "    </tr>\n",
       "    <tr>\n",
       "      <th>4</th>\n",
       "      <td>127131638</td>\n",
       "      <td>174913074</td>\n",
       "      <td>249443</td>\n",
       "      <td>249443</td>\n",
       "      <td>12</td>\n",
       "    </tr>\n",
       "  </tbody>\n",
       "</table>\n",
       "</div>"
      ],
      "text/plain": [
       "           msno    song_id  song_length  played_length  day\n",
       "0       5471836  159134550       236121         236121   11\n",
       "1      12628193  143715991       298945           4010   12\n",
       "2      66768647  171890544       215197         189231   10\n",
       "3  338067507366    5975275       178625         178625   12\n",
       "4     127131638  174913074       249443         249443   12"
      ]
     },
     "execution_count": 5,
     "metadata": {},
     "output_type": "execute_result"
    }
   ],
   "source": [
    "df.head()"
   ]
  },
  {
   "cell_type": "code",
   "execution_count": 6,
   "metadata": {},
   "outputs": [
    {
     "data": {
      "text/plain": [
       "msno             int64\n",
       "song_id          int64\n",
       "song_length      int64\n",
       "played_length    int64\n",
       "day              int64\n",
       "dtype: object"
      ]
     },
     "execution_count": 6,
     "metadata": {},
     "output_type": "execute_result"
    }
   ],
   "source": [
    "df.dtypes"
   ]
  },
  {
   "cell_type": "code",
   "execution_count": null,
   "metadata": {},
   "outputs": [],
   "source": [
    "###------------------"
   ]
  },
  {
   "cell_type": "markdown",
   "metadata": {},
   "source": [
    "## Remove Various_Artist"
   ]
  },
  {
   "cell_type": "code",
   "execution_count": null,
   "metadata": {},
   "outputs": [],
   "source": [
    "size=0\n",
    "start_time=tm.time()\n",
    "for ii in range(97,101,1):\n",
    "    for j in range(97,123,1):\n",
    "        file_name='1'+chr(ii)+chr(j)\n",
    "        df=pd.read_csv(file_name,sep='\\t')\n",
    "        df=df[~df['artist_id'].isin(Various_Artist.artist_id)]\n",
    "        df.drop(['album_id','month'], axis=1, inplace=True)\n",
    "        #df.to_csv(file_name,sep='\\t',encoding='utf-8',index=False)\n",
    "        df.to_hdf(file_name+'.h5','a')\n",
    "        print ('File_name:%s Data_size:%d'%(file_name,len(df)))\n",
    "        size=size+len(df)\n",
    "        if(ii==100 and j==108):\n",
    "            break\n",
    "end_time=tm.time()-start_time\n",
    "print ('Data_size:%d Process_time:%d'%(size,end_time))"
   ]
  },
  {
   "cell_type": "markdown",
   "metadata": {},
   "source": [
    "## Convert File Format to HDF5"
   ]
  },
  {
   "cell_type": "code",
   "execution_count": null,
   "metadata": {},
   "outputs": [],
   "source": [
    "size=0\n",
    "start_time=tm.time()\n",
    "columns=['msno','x_login_type_desc','song_id','played_at','song_length','played_length']\n",
    "for ii in range(97,101,1):\n",
    "    for j in range(97,123,1):\n",
    "        file_name='1'+chr(ii)+chr(j)\n",
    "        if(file_name=='1aa'):\n",
    "            df=pd.read_csv(file_name,sep='\\t')\n",
    "        else:\n",
    "            df=pd.read_csv(file_name,sep='\\t',names=columns)\n",
    "        df=df.dropna()\n",
    "        #df['played_at']=df['played_at'].apply(lambda n : pd.to_datetime(n))\n",
    "        df['played_at']=pd.to_datetime(df['played_at'], errors='coerce')\n",
    "        df=df.dropna()\n",
    "        df['year']=df['played_at'].dt.year\n",
    "        df['month']=df['played_at'].dt.month\n",
    "        df['day']=df['played_at'].dt.day\n",
    "        df['week']=df['played_at'].dt.weekday_name\n",
    "        df=df[df['year']==2016]\n",
    "        df=df[df['month']==12]\n",
    "        df=df[df['song_length']!=0]\n",
    "        df['number']=0\n",
    "        df.drop(['year','x_login_type_desc','song_length','played_length'], axis=1, inplace=True)\n",
    "        #df.to_csv(file_name,sep='\\t',encoding='utf-8',index=False)\n",
    "        df.to_hdf(file_name+'.h5','a')\n",
    "        print ('File_name:%s Data_size:%d'%(file_name,len(df)))\n",
    "        size=size+len(df)\n",
    "        if(ii==100 and j==108):\n",
    "            break\n",
    "end_time=tm.time()-start_time\n",
    "print ('Data_size:%d Process_time:%d'%(size,end_time))"
   ]
  }
 ],
 "metadata": {
  "kernelspec": {
   "display_name": "Python 3",
   "language": "python",
   "name": "python3"
  },
  "language_info": {
   "codemirror_mode": {
    "name": "ipython",
    "version": 3
   },
   "file_extension": ".py",
   "mimetype": "text/x-python",
   "name": "python",
   "nbconvert_exporter": "python",
   "pygments_lexer": "ipython3",
   "version": "3.6.4"
  }
 },
 "nbformat": 4,
 "nbformat_minor": 2
}
